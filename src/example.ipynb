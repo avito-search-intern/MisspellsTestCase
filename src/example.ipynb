{
 "cells": [
  {
   "cell_type": "markdown",
   "id": "3f0b8667",
   "metadata": {},
   "source": [
    "# Чтение данных"
   ]
  },
  {
   "cell_type": "code",
   "execution_count": 1,
   "id": "9258052d",
   "metadata": {
    "ExecuteTime": {
     "end_time": "2022-01-18T12:50:15.528438Z",
     "start_time": "2022-01-18T12:50:15.070546Z"
    }
   },
   "outputs": [
    {
     "data": {
      "text/html": [
       "<div>\n",
       "<style scoped>\n",
       "    .dataframe tbody tr th:only-of-type {\n",
       "        vertical-align: middle;\n",
       "    }\n",
       "\n",
       "    .dataframe tbody tr th {\n",
       "        vertical-align: top;\n",
       "    }\n",
       "\n",
       "    .dataframe thead th {\n",
       "        text-align: right;\n",
       "    }\n",
       "</style>\n",
       "<table border=\"1\" class=\"dataframe\">\n",
       "  <thead>\n",
       "    <tr style=\"text-align: right;\">\n",
       "      <th></th>\n",
       "      <th>INPUT:diff1</th>\n",
       "      <th>INPUT:diff2</th>\n",
       "      <th>INPUT:query1</th>\n",
       "      <th>INPUT:query2</th>\n",
       "      <th>OUTPUT:result</th>\n",
       "      <th>CONFIDENCE:result</th>\n",
       "    </tr>\n",
       "  </thead>\n",
       "  <tbody>\n",
       "    <tr>\n",
       "      <th>count</th>\n",
       "      <td>7845</td>\n",
       "      <td>7845</td>\n",
       "      <td>7845</td>\n",
       "      <td>7845</td>\n",
       "      <td>7845</td>\n",
       "      <td>7845</td>\n",
       "    </tr>\n",
       "    <tr>\n",
       "      <th>unique</th>\n",
       "      <td>4149</td>\n",
       "      <td>2853</td>\n",
       "      <td>7844</td>\n",
       "      <td>7730</td>\n",
       "      <td>2</td>\n",
       "      <td>2048</td>\n",
       "    </tr>\n",
       "    <tr>\n",
       "      <th>top</th>\n",
       "      <td>mersedes</td>\n",
       "      <td>kia</td>\n",
       "      <td>абхазия новый афон</td>\n",
       "      <td>авто</td>\n",
       "      <td>no</td>\n",
       "      <td>99.99%</td>\n",
       "    </tr>\n",
       "    <tr>\n",
       "      <th>freq</th>\n",
       "      <td>68</td>\n",
       "      <td>108</td>\n",
       "      <td>2</td>\n",
       "      <td>4</td>\n",
       "      <td>4000</td>\n",
       "      <td>911</td>\n",
       "    </tr>\n",
       "  </tbody>\n",
       "</table>\n",
       "</div>"
      ],
      "text/plain": [
       "       INPUT:diff1 INPUT:diff2        INPUT:query1 INPUT:query2 OUTPUT:result  \\\n",
       "count         7845        7845                7845         7845          7845   \n",
       "unique        4149        2853                7844         7730             2   \n",
       "top       mersedes         kia  абхазия новый афон         авто            no   \n",
       "freq            68         108                   2            4          4000   \n",
       "\n",
       "       CONFIDENCE:result  \n",
       "count               7845  \n",
       "unique              2048  \n",
       "top               99.99%  \n",
       "freq                 911  "
      ]
     },
     "execution_count": 1,
     "metadata": {},
     "output_type": "execute_result"
    }
   ],
   "source": [
    "import pandas as pd\n",
    "\n",
    "dataset = pd.read_csv('../data/dataset.tsv', '\\t', keep_default_na=False)\n",
    "dataset.describe()"
   ]
  },
  {
   "cell_type": "markdown",
   "id": "95194c97",
   "metadata": {},
   "source": [
    "# Обучение модели / моделей\n"
   ]
  },
  {
   "cell_type": "code",
   "execution_count": null,
   "id": "a5ac71e6",
   "metadata": {},
   "outputs": [],
   "source": []
  },
  {
   "cell_type": "code",
   "execution_count": null,
   "id": "3c2549ac",
   "metadata": {},
   "outputs": [],
   "source": []
  },
  {
   "cell_type": "markdown",
   "id": "db3c0b20",
   "metadata": {},
   "source": [
    "# Валидация"
   ]
  },
  {
   "cell_type": "code",
   "execution_count": null,
   "id": "b1540419",
   "metadata": {},
   "outputs": [],
   "source": []
  },
  {
   "cell_type": "code",
   "execution_count": null,
   "id": "1a951446",
   "metadata": {},
   "outputs": [],
   "source": []
  },
  {
   "cell_type": "markdown",
   "id": "c7f70905",
   "metadata": {},
   "source": [
    "# Применяем на отложенной выборке"
   ]
  },
  {
   "cell_type": "code",
   "execution_count": 2,
   "id": "a3ebdbdd",
   "metadata": {
    "ExecuteTime": {
     "end_time": "2022-01-18T12:50:15.567620Z",
     "start_time": "2022-01-18T12:50:15.532082Z"
    }
   },
   "outputs": [],
   "source": [
    "holdout = pd.read_csv('../data/holdout.tsv', '\\t', keep_default_na=False)\n",
    "# тут нужно применить свою модель\n",
    "holdout['OUTPUT:result'] = 'yes'\n",
    "holdout['OUTPUT:score'] = 0.5\n",
    "\n",
    "holdout.to_csv('../data/sample_submission.tsv', '\\t', index=False)"
   ]
  },
  {
   "cell_type": "code",
   "execution_count": null,
   "id": "5eb97f92",
   "metadata": {},
   "outputs": [],
   "source": []
  }
 ],
 "metadata": {
  "kernelspec": {
   "display_name": "Python 3 (ipykernel)",
   "language": "python",
   "name": "python3"
  },
  "language_info": {
   "codemirror_mode": {
    "name": "ipython",
    "version": 3
   },
   "file_extension": ".py",
   "mimetype": "text/x-python",
   "name": "python",
   "nbconvert_exporter": "python",
   "pygments_lexer": "ipython3",
   "version": "3.7.7"
  },
  "toc": {
   "base_numbering": 1,
   "nav_menu": {},
   "number_sections": true,
   "sideBar": true,
   "skip_h1_title": false,
   "title_cell": "Table of Contents",
   "title_sidebar": "Contents",
   "toc_cell": false,
   "toc_position": {},
   "toc_section_display": true,
   "toc_window_display": false
  }
 },
 "nbformat": 4,
 "nbformat_minor": 5
}
